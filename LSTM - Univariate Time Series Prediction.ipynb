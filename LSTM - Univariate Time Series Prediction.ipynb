{
 "cells": [
  {
   "cell_type": "markdown",
   "id": "bdba66bb",
   "metadata": {},
   "source": [
    " <h3>Univariate Time Series Prediction - LSTM RNN </h3>\n",
    "on Google stock closing value data"
   ]
  },
  {
   "cell_type": "code",
   "execution_count": 14,
   "id": "f5240fae",
   "metadata": {},
   "outputs": [],
   "source": [
    "import numpy as np\n",
    "import matplotlib.pyplot as plt\n",
    "import pandas as pd\n",
    "import seaborn as sns\n",
    "from sklearn.preprocessing import MinMaxScaler\n",
    "from sklearn.metrics import mean_squared_error\n",
    "from keras.models import Sequential\n",
    "from keras.layers import Dense, Activation\n",
    "from keras.layers import LSTM\n",
    "\n",
    "# generate same random-numbers again\n",
    "np.random.seed(40)\n"
   ]
  },
  {
   "cell_type": "code",
   "execution_count": 31,
   "id": "9d6af978",
   "metadata": {},
   "outputs": [
    {
     "name": "stdout",
     "output_type": "stream",
     "text": [
      "symbol          object\n",
      "date            object\n",
      "close          float64\n",
      "high           float64\n",
      "low            float64\n",
      "open           float64\n",
      "volume           int64\n",
      "adjClose       float64\n",
      "adjHigh        float64\n",
      "adjLow         float64\n",
      "adjOpen        float64\n",
      "adjVolume        int64\n",
      "divCash        float64\n",
      "splitFactor    float64\n",
      "dtype: object\n"
     ]
    },
    {
     "data": {
      "image/png": "[encoded data removed]",
      "text/plain": [
       "<Figure size 864x360 with 1 Axes>"
      ]
     },
     "metadata": {
      "needs_background": "light"
     },
     "output_type": "display_data"
    }
   ],
   "source": [
    "# =============================================================================\n",
    "# Step 1 - Get the data\n",
    "# =============================================================================\n",
    "\n",
    "df=pd.read_csv('D:/Study/VII sem/DL/dl_yt/other_files/Google_stock.csv')\n",
    "\n",
    "# Checking if the data has any discrepancies \n",
    "print(df.dtypes)\n",
    "# print(df['date'].isnull().sum())\n",
    "#print(len(df['date'].unique())) #We have data for 1258 days\n",
    "\n",
    "# Converting the date from object to datetime\n",
    "df['Date']=pd.to_datetime(df['date'])\n",
    "df.set_index('Date',inplace = True)\n",
    "df['close'].plot(figsize=(12,5),alpha=0.5)\n",
    "\n",
    "df_new = df.reset_index()['close']\n",
    "#df_new.head()\n"
   ]
  },
  {
   "cell_type": "code",
   "execution_count": 43,
   "id": "7aa54227",
   "metadata": {},
   "outputs": [],
   "source": [
    "# =============================================================================\n",
    "# Step 2 - Pre process\n",
    "# =============================================================================\n",
    "\n",
    "#Transforming the values\n",
    "scaler = MinMaxScaler(feature_range=(0,1))\n",
    "df_new= scaler.fit_transform(np.array(df_new).reshape(-1,1))\n",
    "\n",
    "#Splitting into train and test\n",
    "size = int(len(df_new)*0.66)\n",
    "data_train,data_test = df_new[0:size,:],df_new[size:,:1] # 830 , 428\n",
    "\n",
    "#Time series data from 1D \n",
    "def to_timeseries(data , time_step=1):\n",
    "    data_X=[]\n",
    "    data_y=[]\n",
    "    for i in range(len(data)-time_step-1):\n",
    "        data_X.append(data[i:i+time_step,0])\n",
    "        data_y.append(data[i+time_step,0])\n",
    "    return np.array(data_X),np.array(data_y)\n",
    "    \n",
    "#Converting 1D data_train/test to time series\n",
    "time_step=200 \n",
    "X_train,y_train= to_timeseries(data_train,time_step)\n",
    "X_test,y_test= to_timeseries(data_test,time_step)\n",
    "\n",
    "#Reshpe data as per LSTM reqm [samples, input_shape=(time steps, features)]\n",
    "X_train = np.reshape(X_train, (X_train.shape[0],X_train.shape[1],1))\n",
    "X_test =  np.reshape(X_test, (X_test.shape[0],X_test.shape[1],1))"
   ]
  },
  {
   "cell_type": "code",
   "execution_count": 44,
   "id": "13f94ba9",
   "metadata": {},
   "outputs": [
    {
     "name": "stdout",
     "output_type": "stream",
     "text": [
      "Model: \"sequential_1\"\n",
      "_________________________________________________________________\n",
      " Layer (type)                Output Shape              Param #   \n",
      "=================================================================\n",
      " lstm_2 (LSTM)               (None, 200, 32)           4352      \n",
      "                                                                 \n",
      " lstm_3 (LSTM)               (None, 16)                3136      \n",
      "                                                                 \n",
      " dense_1 (Dense)             (None, 1)                 17        \n",
      "                                                                 \n",
      "=================================================================\n",
      "Total params: 7,505\n",
      "Trainable params: 7,505\n",
      "Non-trainable params: 0\n",
      "_________________________________________________________________\n"
     ]
    }
   ],
   "source": [
    "# =============================================================================\n",
    "# Step 3 - LSTM model\n",
    "# =============================================================================\n",
    "model = Sequential()\n",
    "model.add(LSTM(32, input_shape=(time_step,1),return_sequences=True))\n",
    "model.add(LSTM(16))\n",
    "model.add(Dense(1))\n",
    "\n",
    "#Compile\n",
    "model.compile(loss='mean_squared_error',optimizer='adam')\n",
    "model.summary()"
   ]
  },
  {
   "cell_type": "code",
   "execution_count": 45,
   "id": "161aac1b",
   "metadata": {},
   "outputs": [
    {
     "name": "stdout",
     "output_type": "stream",
     "text": [
      "Epoch 1/50\n",
      "10/10 - 5s - loss: 0.0234 - val_loss: 0.0586 - 5s/epoch - 496ms/step\n",
      "Epoch 2/50\n",
      "10/10 - 1s - loss: 0.0031 - val_loss: 0.0425 - 1s/epoch - 129ms/step\n",
      "Epoch 3/50\n",
      "10/10 - 1s - loss: 0.0012 - val_loss: 0.0799 - 1s/epoch - 123ms/step\n",
      "Epoch 4/50\n",
      "10/10 - 1s - loss: 0.0011 - val_loss: 0.0498 - 1s/epoch - 120ms/step\n",
      "Epoch 5/50\n",
      "10/10 - 1s - loss: 8.9129e-04 - val_loss: 0.0460 - 1s/epoch - 119ms/step\n",
      "Epoch 6/50\n",
      "10/10 - 1s - loss: 7.2432e-04 - val_loss: 0.0498 - 1s/epoch - 126ms/step\n",
      "Epoch 7/50\n",
      "10/10 - 1s - loss: 6.2688e-04 - val_loss: 0.0363 - 1s/epoch - 116ms/step\n",
      "Epoch 8/50\n",
      "10/10 - 1s - loss: 5.7630e-04 - val_loss: 0.0332 - 1s/epoch - 121ms/step\n",
      "Epoch 9/50\n",
      "10/10 - 1s - loss: 5.1421e-04 - val_loss: 0.0276 - 1s/epoch - 139ms/step\n",
      "Epoch 10/50\n",
      "10/10 - 1s - loss: 4.6120e-04 - val_loss: 0.0221 - 1s/epoch - 149ms/step\n",
      "Epoch 11/50\n",
      "10/10 - 2s - loss: 4.2216e-04 - val_loss: 0.0183 - 2s/epoch - 175ms/step\n",
      "Epoch 12/50\n",
      "10/10 - 2s - loss: 3.9248e-04 - val_loss: 0.0141 - 2s/epoch - 166ms/step\n",
      "Epoch 13/50\n",
      "10/10 - 2s - loss: 3.7373e-04 - val_loss: 0.0116 - 2s/epoch - 169ms/step\n",
      "Epoch 14/50\n",
      "10/10 - 2s - loss: 3.6235e-04 - val_loss: 0.0092 - 2s/epoch - 167ms/step\n",
      "Epoch 15/50\n",
      "10/10 - 2s - loss: 3.6021e-04 - val_loss: 0.0090 - 2s/epoch - 155ms/step\n",
      "Epoch 16/50\n",
      "10/10 - 2s - loss: 3.5305e-04 - val_loss: 0.0072 - 2s/epoch - 161ms/step\n",
      "Epoch 17/50\n",
      "10/10 - 2s - loss: 3.4989e-04 - val_loss: 0.0069 - 2s/epoch - 167ms/step\n",
      "Epoch 18/50\n",
      "10/10 - 2s - loss: 3.4855e-04 - val_loss: 0.0066 - 2s/epoch - 159ms/step\n",
      "Epoch 19/50\n",
      "10/10 - 1s - loss: 3.4972e-04 - val_loss: 0.0057 - 1s/epoch - 149ms/step\n",
      "Epoch 20/50\n",
      "10/10 - 1s - loss: 3.5408e-04 - val_loss: 0.0065 - 1s/epoch - 148ms/step\n",
      "Epoch 21/50\n",
      "10/10 - 1s - loss: 3.4400e-04 - val_loss: 0.0063 - 1s/epoch - 148ms/step\n",
      "Epoch 22/50\n",
      "10/10 - 2s - loss: 3.4157e-04 - val_loss: 0.0061 - 2s/epoch - 159ms/step\n",
      "Epoch 23/50\n",
      "10/10 - 2s - loss: 3.4027e-04 - val_loss: 0.0056 - 2s/epoch - 162ms/step\n",
      "Epoch 24/50\n",
      "10/10 - 2s - loss: 3.4596e-04 - val_loss: 0.0059 - 2s/epoch - 180ms/step\n",
      "Epoch 25/50\n",
      "10/10 - 2s - loss: 3.3788e-04 - val_loss: 0.0062 - 2s/epoch - 173ms/step\n",
      "Epoch 26/50\n",
      "10/10 - 2s - loss: 3.3488e-04 - val_loss: 0.0048 - 2s/epoch - 167ms/step\n",
      "Epoch 27/50\n",
      "10/10 - 2s - loss: 3.3348e-04 - val_loss: 0.0056 - 2s/epoch - 172ms/step\n",
      "Epoch 28/50\n",
      "10/10 - 2s - loss: 3.3418e-04 - val_loss: 0.0050 - 2s/epoch - 158ms/step\n",
      "Epoch 29/50\n",
      "10/10 - 2s - loss: 3.3177e-04 - val_loss: 0.0046 - 2s/epoch - 162ms/step\n",
      "Epoch 30/50\n",
      "10/10 - 2s - loss: 3.3304e-04 - val_loss: 0.0050 - 2s/epoch - 152ms/step\n",
      "Epoch 31/50\n",
      "10/10 - 2s - loss: 3.2571e-04 - val_loss: 0.0044 - 2s/epoch - 161ms/step\n",
      "Epoch 32/50\n",
      "10/10 - 2s - loss: 3.3378e-04 - val_loss: 0.0043 - 2s/epoch - 168ms/step\n",
      "Epoch 33/50\n",
      "10/10 - 2s - loss: 3.3586e-04 - val_loss: 0.0046 - 2s/epoch - 163ms/step\n",
      "Epoch 34/50\n",
      "10/10 - 2s - loss: 3.3061e-04 - val_loss: 0.0058 - 2s/epoch - 163ms/step\n",
      "Epoch 35/50\n",
      "10/10 - 2s - loss: 3.3950e-04 - val_loss: 0.0040 - 2s/epoch - 174ms/step\n",
      "Epoch 36/50\n",
      "10/10 - 2s - loss: 3.1863e-04 - val_loss: 0.0041 - 2s/epoch - 153ms/step\n",
      "Epoch 37/50\n",
      "10/10 - 2s - loss: 3.1754e-04 - val_loss: 0.0049 - 2s/epoch - 161ms/step\n",
      "Epoch 38/50\n",
      "10/10 - 2s - loss: 3.1920e-04 - val_loss: 0.0035 - 2s/epoch - 156ms/step\n",
      "Epoch 39/50\n",
      "10/10 - 2s - loss: 3.3342e-04 - val_loss: 0.0031 - 2s/epoch - 157ms/step\n",
      "Epoch 40/50\n",
      "10/10 - 2s - loss: 3.1174e-04 - val_loss: 0.0042 - 2s/epoch - 182ms/step\n",
      "Epoch 41/50\n",
      "10/10 - 2s - loss: 3.1091e-04 - val_loss: 0.0040 - 2s/epoch - 182ms/step\n",
      "Epoch 42/50\n",
      "10/10 - 2s - loss: 3.0868e-04 - val_loss: 0.0033 - 2s/epoch - 168ms/step\n",
      "Epoch 43/50\n",
      "10/10 - 2s - loss: 3.1489e-04 - val_loss: 0.0033 - 2s/epoch - 152ms/step\n",
      "Epoch 44/50\n",
      "10/10 - 2s - loss: 3.0433e-04 - val_loss: 0.0033 - 2s/epoch - 154ms/step\n",
      "Epoch 45/50\n",
      "10/10 - 2s - loss: 3.0656e-04 - val_loss: 0.0034 - 2s/epoch - 172ms/step\n",
      "Epoch 46/50\n",
      "10/10 - 2s - loss: 3.0601e-04 - val_loss: 0.0033 - 2s/epoch - 171ms/step\n",
      "Epoch 47/50\n",
      "10/10 - 2s - loss: 3.0868e-04 - val_loss: 0.0030 - 2s/epoch - 171ms/step\n",
      "Epoch 48/50\n",
      "10/10 - 2s - loss: 2.9991e-04 - val_loss: 0.0030 - 2s/epoch - 196ms/step\n",
      "Epoch 49/50\n",
      "10/10 - 2s - loss: 2.9759e-04 - val_loss: 0.0030 - 2s/epoch - 196ms/step\n",
      "Epoch 50/50\n",
      "10/10 - 2s - loss: 2.9635e-04 - val_loss: 0.0033 - 2s/epoch - 212ms/step\n"
     ]
    },
    {
     "data": {
      "text/plain": [
       "<keras.callbacks.History at 0x13be1693a90>"
      ]
     },
     "execution_count": 45,
     "metadata": {},
     "output_type": "execute_result"
    }
   ],
   "source": [
    "model.fit(X_train,y_train,validation_data=(X_test,y_test), epochs=50, batch_size= 64, verbose=2)"
   ]
  },
  {
   "cell_type": "code",
   "execution_count": 46,
   "id": "5eaca3a8",
   "metadata": {},
   "outputs": [
    {
     "name": "stdout",
     "output_type": "stream",
     "text": [
      "RMSE train =  0.017277201536782326\n",
      "RMSE test =  0.05750429896682036\n"
     ]
    }
   ],
   "source": [
    "# =============================================================================\n",
    "# Step 4 - Prediction\n",
    "# =============================================================================\n",
    "#Making predictions\n",
    "train_predict=model.predict(X_train)\n",
    "test_predict=model.predict(X_test)\n",
    "train_predict=scaler.inverse_transform(train_predict)\n",
    "test_predict=scaler.inverse_transform(test_predict)\n",
    "\n",
    "import math\n",
    "#Calc RMSE and comparing it with ARIMA's\n",
    "print(\"RMSE train = \",math.sqrt(mean_squared_error(y_train,train_predict)))\n",
    "print(\"RMSE test = \",math.sqrt(mean_squared_error(y_test,test_predict)))"
   ]
  },
  {
   "cell_type": "code",
   "execution_count": 47,
   "id": "07752093",
   "metadata": {},
   "outputs": [],
   "source": [
    "# =============================================================================\n",
    "# Step 5 - Plotting\n",
    "# =============================================================================\n",
    "\n",
    "#Inverse transforming to plot\n",
    "train_predict=scaler.inverse_transform(train_predict)\n",
    "test_predict=scaler.inverse_transform(test_predict)"
   ]
  },
  {
   "cell_type": "code",
   "execution_count": 58,
   "id": "54f8f293",
   "metadata": {},
   "outputs": [
    {
     "data": {
      "image/png": "[encoded data removed]",
      "text/plain": [
       "<Figure size 432x288 with 1 Axes>"
      ]
     },
     "metadata": {
      "needs_background": "light"
     },
     "output_type": "display_data"
    }
   ],
   "source": [
    "#Plotting \n",
    "look_back=200\n",
    "\n",
    "# shift train predictions for plotting\n",
    "trainPredictPlot = np.empty_like(df_new)\n",
    "trainPredictPlot[:, :] = np.nan\n",
    "trainPredictPlot[look_back:len(train_predict)+look_back, :] = train_predict\n",
    "\n",
    "# shift test predictions for plotting\n",
    "testPredictPlot = np.empty_like(df_new)\n",
    "testPredictPlot[:, :] = np.nan\n",
    "testPredictPlot[len(train_predict)+(look_back*2)+1:len(df_new)-1, :] = test_predict\n",
    "\n",
    "# plot baseline and predictions\n",
    "plt.plot(scaler.inverse_transform(df_new), color=\"grey\")\n",
    "plt.plot(trainPredictPlot,color='yellow')\n",
    "plt.plot(testPredictPlot,color='orange')\n",
    "\n",
    "plt.show()"
   ]
  },
  {
   "cell_type": "code",
   "execution_count": null,
   "id": "2b1b9c3c",
   "metadata": {},
   "outputs": [],
   "source": []
  }
 ],
 "metadata": {
  "kernelspec": {
   "display_name": "Python 3",
   "language": "python",
   "name": "python3"
  },
  "language_info": {
   "codemirror_mode": {
    "name": "ipython",
    "version": 3
   },
   "file_extension": ".py",
   "mimetype": "text/x-python",
   "name": "python",
   "nbconvert_exporter": "python",
   "pygments_lexer": "ipython3",
   "version": "3.9.7"
  }
 },
 "nbformat": 4,
 "nbformat_minor": 5
}
